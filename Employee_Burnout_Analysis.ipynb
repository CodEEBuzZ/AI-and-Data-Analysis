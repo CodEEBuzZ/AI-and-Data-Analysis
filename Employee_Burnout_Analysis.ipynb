{
  "cells": [
    {
      "cell_type": "markdown",
      "metadata": {
        "id": "view-in-github",
        "colab_type": "text"
      },
      "source": [
        "<a href=\"https://colab.research.google.com/github/CodEEBuzZ/AI-and-Data-Analysis/blob/main/Employee_Burnout_Analysis.ipynb\" target=\"_parent\"><img src=\"https://colab.research.google.com/assets/colab-badge.svg\" alt=\"Open In Colab\"/></a>"
      ]
    },
    {
      "cell_type": "code",
      "execution_count": null,
      "metadata": {
        "id": "f5JHHgFOFXLh"
      },
      "outputs": [],
      "source": [
        "pip install pandas numpy matplotlib seaborn scikit-learn xgboost shap dash"
      ]
    },
    {
      "cell_type": "code",
      "execution_count": null,
      "metadata": {
        "id": "ic5jx9HSJY5r"
      },
      "outputs": [],
      "source": [
        "import pandas as pd\n",
        "df = pd.read_excel(\"/content/employee_burnout_analysis-AI 2.xlsx\")"
      ]
    },
    {
      "cell_type": "code",
      "execution_count": null,
      "metadata": {
        "id": "dItpANIhJyds"
      },
      "outputs": [],
      "source": [
        "df"
      ]
    },
    {
      "cell_type": "code",
      "execution_count": null,
      "metadata": {
        "id": "ZLjJswN8Kjv_"
      },
      "outputs": [],
      "source": [
        "df.drop_duplicates(inplace=True)"
      ]
    },
    {
      "cell_type": "code",
      "execution_count": null,
      "metadata": {
        "id": "QW47t4RfKwwy"
      },
      "outputs": [],
      "source": [
        "df"
      ]
    },
    {
      "cell_type": "code",
      "execution_count": null,
      "metadata": {
        "id": "KptHQVuyK0Xh"
      },
      "outputs": [],
      "source": [
        "df = pd.get_dummies(df, drop_first=True)"
      ]
    },
    {
      "cell_type": "code",
      "execution_count": null,
      "metadata": {
        "id": "nR39NCP6K5QI"
      },
      "outputs": [],
      "source": [
        "from sklearn.preprocessing import MinMaxScaler\n",
        "\n",
        "scaler = MinMaxScaler()\n",
        "df[['Designation', 'Mental Fatigue Score']] = scaler.fit_transform(df[['Designation', 'Mental Fatigue Score']])"
      ]
    },
    {
      "cell_type": "code",
      "execution_count": null,
      "metadata": {
        "id": "uMB0jw4qLU8f"
      },
      "outputs": [],
      "source": [
        "import pandas as pd\n",
        "import numpy as np\n",
        "df = pd.read_excel(\"/content/employee_burnout_analysis-AI 2.xlsx\")\n",
        "print(df.info())\n",
        "print(df.describe())\n",
        "df['Gender'] = df['Gender'].map({'Male': 0, 'Female': 1})\n",
        "df['Company Type'] = df['Company Type'].map({'Product': 0, 'Service': 1})\n",
        "df['WFH Setup Available'] = df['WFH Setup Available'].map({'No': 0, 'Yes': 1})"
      ]
    },
    {
      "cell_type": "code",
      "execution_count": null,
      "metadata": {
        "id": "MMUpaCsQLnlC"
      },
      "outputs": [],
      "source": [
        "from datetime import datetime\n",
        "df['Tenure (Years)'] = (datetime.now() - pd.to_datetime(df['Date of Joining'])).dt.days / 365\n",
        "df['Designation_Resource'] = df['Designation'] * df['Resource Allocation']\n",
        "df['Mental_Resource'] = df['Mental Fatigue Score'] * df['Resource Allocation']\n",
        "df.drop(['Employee ID', 'Date of Joining'], axis=1, inplace=True)"
      ]
    },
    {
      "cell_type": "code",
      "execution_count": null,
      "metadata": {
        "id": "bhCMgGyzM2GG"
      },
      "outputs": [],
      "source": [
        "import seaborn as sns\n",
        "import matplotlib.pyplot as plt\n",
        "sns.heatmap(df.corr(), annot=True, cmap='coolwarm')\n",
        "plt.title(\"Correlation Heatmap\")\n",
        "plt.show()\n",
        "sns.histplot(df['Burn Rate'], kde=True, bins=20, color='blue')\n",
        "plt.title(\"Burn Rate Distribution\")\n",
        "plt.show()\n",
        "sns.boxplot(x=pd.cut(df['Burn Rate'], bins=[0, 0.3, 0.7, 1], labels=['Low', 'Medium', 'High']),\n",
        "            y='Mental Fatigue Score', data=df)\n",
        "plt.title(\"Mental Fatigue Score by Burn Rate Level\")\n",
        "plt.show()"
      ]
    },
    {
      "cell_type": "code",
      "execution_count": null,
      "metadata": {
        "id": "KSRunOLVNCoK"
      },
      "outputs": [],
      "source": [
        "print(df.columns)"
      ]
    },
    {
      "cell_type": "code",
      "execution_count": null,
      "metadata": {
        "id": "Kz2L9wX1NIZT"
      },
      "outputs": [],
      "source": [
        "from sklearn.model_selection import train_test_split\n",
        "\n",
        "# Ensure the target column exists and has no NaNs\n",
        "assert 'Burn Rate' in df.columns, \"Column 'Burn Rate' not found in DataFrame!\"\n",
        "df['Burn Rate'] = pd.to_numeric(df['Burn Rate'], errors='coerce')\n",
        "df['Burn Rate'].fillna(df['Burn Rate'].median(), inplace=True)\n",
        "\n",
        "# Define features and target\n",
        "X = df.drop('Burn Rate', axis=1)\n",
        "y = df['Burn Rate']\n",
        "\n",
        "# Ensure all features are numeric\n",
        "X = pd.get_dummies(X, drop_first=True)\n",
        "\n",
        "# Confirm shapes\n",
        "print(f\"Features shape: {X.shape}, Target shape: {y.shape}\")\n",
        "\n",
        "# Train-test split\n",
        "X_train, X_test, y_train, y_test = train_test_split(X, y, test_size=0.2, random_state=42)\n",
        "print(f\"Train size: {X_train.shape[0]}, Test size: {X_test.shape[0]}\")\n"
      ]
    },
    {
      "cell_type": "code",
      "execution_count": null,
      "metadata": {
        "id": "GzS-EVysPLc5"
      },
      "outputs": [],
      "source": [
        "from sklearn.model_selection import train_test_split\n",
        "X = df.drop('Burn Rate', axis=1)\n",
        "y = df['Burn Rate']\n",
        "X_train, X_test, y_train, y_test = train_test_split(X, y, test_size=0.2, random_state=42)\n"
      ]
    },
    {
      "cell_type": "code",
      "execution_count": null,
      "metadata": {
        "id": "QAckaBrSPSOQ"
      },
      "outputs": [],
      "source": [
        "from sklearn.ensemble import RandomForestRegressor\n",
        "from sklearn.metrics import mean_absolute_error, r2_score\n",
        "model = RandomForestRegressor(n_estimators=100, random_state=42)\n",
        "model.fit(X_train, y_train)\n",
        "y_pred = model.predict(X_test)\n",
        "mae = mean_absolute_error(y_test, y_pred)\n",
        "r2 = r2_score(y_test, y_pred)\n",
        "\n",
        "print(f\"Mean Absolute Error: {mae}\")\n",
        "print(f\"R-Squared Score: {r2}\")"
      ]
    },
    {
      "cell_type": "code",
      "execution_count": null,
      "metadata": {
        "id": "TBjR_01mU0Ld"
      },
      "outputs": [],
      "source": [
        "pip install streamlit"
      ]
    },
    {
      "cell_type": "code",
      "execution_count": null,
      "metadata": {
        "id": "vw06vQUuU5fJ"
      },
      "outputs": [],
      "source": [
        "import streamlit as st\n",
        "import pandas as pd\n",
        "import joblib\n",
        "model = joblib.load(\"burnout_model.pkl\")\n",
        "\n",
        "st.title(\"Burnout Prediction Dashboard\")\n",
        "features = []\n",
        "for col in X.columns:\n",
        "    val = st.number_input(f\"Enter {col}\", value=0.0)\n",
        "    features.append(val)\n",
        "if st.button(\"Predict Burnout Rate\"):\n",
        "    prediction = model.predict([features])\n",
        "    st.write(f\"Predicted Burnout Rate: {prediction[0]:.2f}\")\n"
      ]
    },
    {
      "cell_type": "code",
      "execution_count": null,
      "metadata": {
        "id": "iMAuU-lIVL6l"
      },
      "outputs": [],
      "source": [
        "df['Burn Rate Category'] = pd.cut(df['Burn Rate'], bins=[0, 0.3, 0.7, 1], labels=['Low', 'Medium', 'High'])\n",
        "plt.figure(figsize=(10, 6))\n",
        "sns.boxplot(x='Burn Rate Category', y='Mental Fatigue Score', data=df, palette='Set2')\n",
        "plt.title(\"Mental Fatigue Score by Burn Rate Category\")\n",
        "plt.show()\n",
        "plt.figure(figsize=(10, 6))\n",
        "sns.boxplot(x='Burn Rate Category', y='Tenure (Years)', data=df, palette='Set2')\n",
        "plt.title(\"Tenure by Burn Rate Category\")\n",
        "plt.show()\n"
      ]
    },
    {
      "cell_type": "code",
      "execution_count": null,
      "metadata": {
        "id": "Fmze_QavVT3D"
      },
      "outputs": [],
      "source": [
        "from sklearn.ensemble import RandomForestRegressor\n",
        "model = RandomForestRegressor(n_estimators=100, random_state=42)\n",
        "model.fit(X_train, y_train)\n",
        "feature_importance = model.feature_importances_\n",
        "plt.figure(figsize=(10, 6))\n",
        "sns.barplot(x=feature_importance, y=X.columns)\n",
        "plt.title(\"Feature Importance\")\n",
        "plt.show()"
      ]
    },
    {
      "cell_type": "code",
      "execution_count": null,
      "metadata": {
        "id": "o6ZSaLPRVsbt"
      },
      "outputs": [],
      "source": [
        "plt.figure(figsize=(10, 6))\n",
        "sns.regplot(x='Mental Fatigue Score', y='Burn Rate', data=df, scatter_kws={'color': 'blue'}, line_kws={'color': 'red'})\n",
        "plt.title(\"Mental Fatigue Score vs Burn Rate with Regression Line\")\n",
        "plt.show()"
      ]
    },
    {
      "cell_type": "code",
      "execution_count": null,
      "metadata": {
        "id": "A-_16E6-VyMu"
      },
      "outputs": [],
      "source": [
        "heatmap_data = df.pivot_table(values='Burn Rate', index='WFH Setup Available', columns='Company Type', aggfunc='mean')\n",
        "\n",
        "plt.figure(figsize=(8, 6))\n",
        "sns.heatmap(heatmap_data, annot=True, cmap='YlGnBu')\n",
        "plt.title(\"Burn Rate by WFH Setup and Company Type\")\n",
        "plt.show()"
      ]
    },
    {
      "cell_type": "code",
      "execution_count": null,
      "metadata": {
        "id": "ygpb72yZV6wH"
      },
      "outputs": [],
      "source": [
        "plt.figure(figsize=(10, 6))\n",
        "sns.histplot(df['Burn Rate'], kde=True, color='purple', bins=30)\n",
        "plt.title(\"Distribution of Burn Rate\")\n",
        "plt.show()"
      ]
    },
    {
      "cell_type": "code",
      "execution_count": null,
      "metadata": {
        "id": "o2IPtlnHWB9K"
      },
      "outputs": [],
      "source": [
        "plt.figure(figsize=(10, 6))\n",
        "sns.scatterplot(x='Tenure (Years)', y='Burn Rate', data=df, color='green')\n",
        "plt.title(\"Tenure vs Burn Rate\")\n",
        "plt.show()\n",
        "plt.figure(figsize=(10, 6))\n",
        "sns.scatterplot(x='Designation_Resource', y='Burn Rate', data=df, color='orange')\n",
        "plt.title(\"Designation_Resource vs Burn Rate\")\n",
        "plt.show()\n"
      ]
    },
    {
      "cell_type": "code",
      "execution_count": null,
      "metadata": {
        "id": "fw55pvnFWHRL"
      },
      "outputs": [],
      "source": [
        "plt.figure(figsize=(10, 6))\n",
        "sns.boxplot(x='Company Type', y='Mental Fatigue Score', data=df, palette='Set1')\n",
        "plt.title(\"Mental Fatigue Score by Company Type\")\n",
        "plt.show()"
      ]
    },
    {
      "cell_type": "code",
      "execution_count": null,
      "metadata": {
        "id": "46Pz2SEPWOen"
      },
      "outputs": [],
      "source": [
        "y_pred = model.predict(X_test)\n",
        "plt.figure(figsize=(10, 6))\n",
        "sns.scatterplot(x=y_test, y=y_pred)\n",
        "plt.plot([0, 1], [0, 1], 'r--', label='Perfect Prediction')\n",
        "plt.title(\"Actual vs Predicted Burn Rate\")\n",
        "plt.xlabel(\"Actual Burn Rate\")\n",
        "plt.ylabel(\"Predicted Burn Rate\")\n",
        "plt.legend()\n",
        "plt.show()"
      ]
    },
    {
      "cell_type": "code",
      "execution_count": null,
      "metadata": {
        "id": "WHHXdqCoWWCw"
      },
      "outputs": [],
      "source": [
        "plt.figure(figsize=(10, 6))\n",
        "sns.scatterplot(x='Mental Fatigue Score', y='Burn Rate', hue='Tenure (Years)', data=df, palette='viridis')\n",
        "plt.title(\"Mental Fatigue vs Burn Rate Across Different Tenure\")\n",
        "plt.show()"
      ]
    },
    {
      "cell_type": "code",
      "execution_count": null,
      "metadata": {
        "id": "5NXb2RMzX0J9"
      },
      "outputs": [],
      "source": [
        "from sklearn.metrics import mean_squared_error\n",
        "\n",
        "mse = mean_squared_error(y_test, y_pred)\n",
        "rmse = np.sqrt(mse)\n",
        "\n",
        "print(f\"Mean Squared Error: {mse}\")\n",
        "print(f\"Root Mean Squared Error: {rmse}\")"
      ]
    },
    {
      "cell_type": "code",
      "execution_count": null,
      "metadata": {
        "id": "GRk7BUAwX29_"
      },
      "outputs": [],
      "source": [
        "from sklearn.model_selection import cross_val_score\n",
        "\n",
        "scores = cross_val_score(model, X, y, cv=5, scoring='neg_mean_absolute_error')\n",
        "print(f\"Cross-validated MAE scores: {scores}\")\n",
        "print(f\"Average Cross-validated MAE: {scores.mean()}\")\n"
      ]
    }
  ],
  "metadata": {
    "colab": {
      "provenance": [],
      "authorship_tag": "ABX9TyMLCTzmHlZMlvNy0oJ05yXf",
      "include_colab_link": true
    },
    "kernelspec": {
      "display_name": "Python 3",
      "name": "python3"
    },
    "language_info": {
      "name": "python"
    }
  },
  "nbformat": 4,
  "nbformat_minor": 0
}